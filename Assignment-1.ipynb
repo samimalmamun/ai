{
 "cells": [
  {
   "cell_type": "markdown",
   "id": "db90e711",
   "metadata": {},
   "source": [
    "# Assignment 1 - Python Basic"
   ]
  },
  {
   "cell_type": "markdown",
   "id": "4f6d91f0",
   "metadata": {},
   "source": [
    "Assignment details: https://github.com/iabhisekbosepm/Basic-Pyhton/blob/45a75ad8aefc2065a72c778147b2773e583507d0/Assignments-1.pdf"
   ]
  },
  {
   "cell_type": "markdown",
   "id": "3e197036",
   "metadata": {},
   "source": [
    "## Assignment 1 - Task 1: Install mongoDb in local"
   ]
  },
  {
   "cell_type": "markdown",
   "id": "e44a0a44",
   "metadata": {},
   "source": [
    "### Install depency libraries\n",
    "### Dependencies - pymongo"
   ]
  },
  {
   "cell_type": "code",
   "execution_count": 1,
   "id": "1123ce33",
   "metadata": {},
   "outputs": [
    {
     "name": "stdout",
     "output_type": "stream",
     "text": [
      "Requirement already satisfied: pymongo in ./anaconda3/lib/python3.8/site-packages (3.12.0)\n",
      "Note: you may need to restart the kernel to use updated packages.\n"
     ]
    }
   ],
   "source": [
    "pip install pymongo"
   ]
  },
  {
   "cell_type": "markdown",
   "id": "68c5f3db",
   "metadata": {},
   "source": [
    "## Starting main python code"
   ]
  },
  {
   "cell_type": "raw",
   "id": "4d552582",
   "metadata": {},
   "source": [
    "Import all the required libraries"
   ]
  },
  {
   "cell_type": "code",
   "execution_count": 2,
   "id": "9ef3742c",
   "metadata": {},
   "outputs": [],
   "source": [
    "import pymongo\n",
    "from pymongo import MongoClient\n",
    "import pandas as pd\n",
    "import numpy as np"
   ]
  },
  {
   "cell_type": "markdown",
   "id": "ef901b81",
   "metadata": {},
   "source": [
    "## Assignment 1 - Task 2: Create a collection with name of “Sample”, Insert 100 records"
   ]
  },
  {
   "cell_type": "raw",
   "id": "a9e57b69",
   "metadata": {},
   "source": [
    "There is only one collection \"sample\" where inserted all countries name code and phone prefix\n",
    "Example record from that sample collection\n",
    "{\n",
    "    \"_id\": \"612b7a44d1977c0c42ce74df\"\n",
    "    \"name\": \"Afghanistan\",\n",
    "    \"prefix\": \"+93\",\n",
    "    \"code\": \"AF\"\n",
    "}\n"
   ]
  },
  {
   "cell_type": "markdown",
   "id": "a6312e22",
   "metadata": {},
   "source": [
    "### Connect to local mongoDb database \"local\""
   ]
  },
  {
   "cell_type": "code",
   "execution_count": 3,
   "id": "e769b3c0",
   "metadata": {},
   "outputs": [],
   "source": [
    "db = MongoClient(\"localhost\", 27017).local"
   ]
  },
  {
   "cell_type": "markdown",
   "id": "f834be3d",
   "metadata": {},
   "source": [
    "## Assignment 1 Task 3: Gather those data from mongodb to your jupyter notebook in a dataframe"
   ]
  },
  {
   "cell_type": "raw",
   "id": "7d19c983",
   "metadata": {},
   "source": [
    "Fetch data from sample collection"
   ]
  },
  {
   "cell_type": "code",
   "execution_count": 4,
   "id": "bf0a9d3e",
   "metadata": {},
   "outputs": [],
   "source": [
    "sampleData = db.sample.find().limit(100)"
   ]
  },
  {
   "cell_type": "raw",
   "id": "dc57f7a3",
   "metadata": {},
   "source": [
    "Put sample data in a dataframe"
   ]
  },
  {
   "cell_type": "code",
   "execution_count": 5,
   "id": "a790e5b7",
   "metadata": {},
   "outputs": [
    {
     "data": {
      "text/html": [
       "<div>\n",
       "<style scoped>\n",
       "    .dataframe tbody tr th:only-of-type {\n",
       "        vertical-align: middle;\n",
       "    }\n",
       "\n",
       "    .dataframe tbody tr th {\n",
       "        vertical-align: top;\n",
       "    }\n",
       "\n",
       "    .dataframe thead th {\n",
       "        text-align: right;\n",
       "    }\n",
       "</style>\n",
       "<table border=\"1\" class=\"dataframe\">\n",
       "  <thead>\n",
       "    <tr style=\"text-align: right;\">\n",
       "      <th></th>\n",
       "      <th>_id</th>\n",
       "      <th>name</th>\n",
       "      <th>prefix</th>\n",
       "      <th>code</th>\n",
       "    </tr>\n",
       "  </thead>\n",
       "  <tbody>\n",
       "    <tr>\n",
       "      <th>0</th>\n",
       "      <td>612b7a44d1977c0c42ce74df</td>\n",
       "      <td>Afghanistan</td>\n",
       "      <td>+93</td>\n",
       "      <td>AF</td>\n",
       "    </tr>\n",
       "    <tr>\n",
       "      <th>1</th>\n",
       "      <td>612b7a44d1977c0c42ce74e0</td>\n",
       "      <td>Aland Islands</td>\n",
       "      <td>+358</td>\n",
       "      <td>AX</td>\n",
       "    </tr>\n",
       "    <tr>\n",
       "      <th>2</th>\n",
       "      <td>612b7a44d1977c0c42ce74e1</td>\n",
       "      <td>Albania</td>\n",
       "      <td>+355</td>\n",
       "      <td>AL</td>\n",
       "    </tr>\n",
       "    <tr>\n",
       "      <th>3</th>\n",
       "      <td>612b7a44d1977c0c42ce74e2</td>\n",
       "      <td>Algeria</td>\n",
       "      <td>+213</td>\n",
       "      <td>DZ</td>\n",
       "    </tr>\n",
       "    <tr>\n",
       "      <th>4</th>\n",
       "      <td>612b7a44d1977c0c42ce74e3</td>\n",
       "      <td>AmericanSamoa</td>\n",
       "      <td>+1684</td>\n",
       "      <td>AS</td>\n",
       "    </tr>\n",
       "    <tr>\n",
       "      <th>...</th>\n",
       "      <td>...</td>\n",
       "      <td>...</td>\n",
       "      <td>...</td>\n",
       "      <td>...</td>\n",
       "    </tr>\n",
       "    <tr>\n",
       "      <th>95</th>\n",
       "      <td>612b7a44d1977c0c42ce753e</td>\n",
       "      <td>Hungary</td>\n",
       "      <td>+36</td>\n",
       "      <td>HU</td>\n",
       "    </tr>\n",
       "    <tr>\n",
       "      <th>96</th>\n",
       "      <td>612b7a44d1977c0c42ce753f</td>\n",
       "      <td>Iceland</td>\n",
       "      <td>+354</td>\n",
       "      <td>IS</td>\n",
       "    </tr>\n",
       "    <tr>\n",
       "      <th>97</th>\n",
       "      <td>612b7a44d1977c0c42ce7540</td>\n",
       "      <td>India</td>\n",
       "      <td>+91</td>\n",
       "      <td>IN</td>\n",
       "    </tr>\n",
       "    <tr>\n",
       "      <th>98</th>\n",
       "      <td>612b7a44d1977c0c42ce7541</td>\n",
       "      <td>Indonesia</td>\n",
       "      <td>+62</td>\n",
       "      <td>ID</td>\n",
       "    </tr>\n",
       "    <tr>\n",
       "      <th>99</th>\n",
       "      <td>612b7a44d1977c0c42ce7542</td>\n",
       "      <td>Iran, Islamic Republic of Persian Gulf</td>\n",
       "      <td>+98</td>\n",
       "      <td>IR</td>\n",
       "    </tr>\n",
       "  </tbody>\n",
       "</table>\n",
       "<p>100 rows × 4 columns</p>\n",
       "</div>"
      ],
      "text/plain": [
       "                         _id                                    name prefix  \\\n",
       "0   612b7a44d1977c0c42ce74df                             Afghanistan    +93   \n",
       "1   612b7a44d1977c0c42ce74e0                           Aland Islands   +358   \n",
       "2   612b7a44d1977c0c42ce74e1                                 Albania   +355   \n",
       "3   612b7a44d1977c0c42ce74e2                                 Algeria   +213   \n",
       "4   612b7a44d1977c0c42ce74e3                           AmericanSamoa  +1684   \n",
       "..                       ...                                     ...    ...   \n",
       "95  612b7a44d1977c0c42ce753e                                 Hungary    +36   \n",
       "96  612b7a44d1977c0c42ce753f                                 Iceland   +354   \n",
       "97  612b7a44d1977c0c42ce7540                                   India    +91   \n",
       "98  612b7a44d1977c0c42ce7541                               Indonesia    +62   \n",
       "99  612b7a44d1977c0c42ce7542  Iran, Islamic Republic of Persian Gulf    +98   \n",
       "\n",
       "   code  \n",
       "0    AF  \n",
       "1    AX  \n",
       "2    AL  \n",
       "3    DZ  \n",
       "4    AS  \n",
       "..  ...  \n",
       "95   HU  \n",
       "96   IS  \n",
       "97   IN  \n",
       "98   ID  \n",
       "99   IR  \n",
       "\n",
       "[100 rows x 4 columns]"
      ]
     },
     "execution_count": 5,
     "metadata": {},
     "output_type": "execute_result"
    }
   ],
   "source": [
    "frameData = pd.DataFrame(list(sampleData))\n",
    "frameData"
   ]
  },
  {
   "cell_type": "markdown",
   "id": "8e088937",
   "metadata": {},
   "source": [
    "## Assignment 1 - Task 4: Convert & save those json data as csv in your machine"
   ]
  },
  {
   "cell_type": "code",
   "execution_count": 6,
   "id": "888dd078",
   "metadata": {},
   "outputs": [],
   "source": [
    "filename = \"countries.csv\"\n",
    "frameData.to_csv(filename, index=False)\n"
   ]
  },
  {
   "cell_type": "markdown",
   "id": "274b7197",
   "metadata": {},
   "source": [
    "## Assignment 1 - Task 5: Read that csv file via panda"
   ]
  },
  {
   "cell_type": "code",
   "execution_count": 7,
   "id": "f2db3a01",
   "metadata": {},
   "outputs": [
    {
     "data": {
      "text/html": [
       "<div>\n",
       "<style scoped>\n",
       "    .dataframe tbody tr th:only-of-type {\n",
       "        vertical-align: middle;\n",
       "    }\n",
       "\n",
       "    .dataframe tbody tr th {\n",
       "        vertical-align: top;\n",
       "    }\n",
       "\n",
       "    .dataframe thead th {\n",
       "        text-align: right;\n",
       "    }\n",
       "</style>\n",
       "<table border=\"1\" class=\"dataframe\">\n",
       "  <thead>\n",
       "    <tr style=\"text-align: right;\">\n",
       "      <th></th>\n",
       "      <th>_id</th>\n",
       "      <th>name</th>\n",
       "      <th>prefix</th>\n",
       "      <th>code</th>\n",
       "    </tr>\n",
       "  </thead>\n",
       "  <tbody>\n",
       "    <tr>\n",
       "      <th>0</th>\n",
       "      <td>612b7a44d1977c0c42ce74df</td>\n",
       "      <td>Afghanistan</td>\n",
       "      <td>+93</td>\n",
       "      <td>AF</td>\n",
       "    </tr>\n",
       "    <tr>\n",
       "      <th>1</th>\n",
       "      <td>612b7a44d1977c0c42ce74e0</td>\n",
       "      <td>Aland Islands</td>\n",
       "      <td>+358</td>\n",
       "      <td>AX</td>\n",
       "    </tr>\n",
       "    <tr>\n",
       "      <th>2</th>\n",
       "      <td>612b7a44d1977c0c42ce74e1</td>\n",
       "      <td>Albania</td>\n",
       "      <td>+355</td>\n",
       "      <td>AL</td>\n",
       "    </tr>\n",
       "    <tr>\n",
       "      <th>3</th>\n",
       "      <td>612b7a44d1977c0c42ce74e2</td>\n",
       "      <td>Algeria</td>\n",
       "      <td>+213</td>\n",
       "      <td>DZ</td>\n",
       "    </tr>\n",
       "    <tr>\n",
       "      <th>4</th>\n",
       "      <td>612b7a44d1977c0c42ce74e3</td>\n",
       "      <td>AmericanSamoa</td>\n",
       "      <td>+1684</td>\n",
       "      <td>AS</td>\n",
       "    </tr>\n",
       "    <tr>\n",
       "      <th>...</th>\n",
       "      <td>...</td>\n",
       "      <td>...</td>\n",
       "      <td>...</td>\n",
       "      <td>...</td>\n",
       "    </tr>\n",
       "    <tr>\n",
       "      <th>95</th>\n",
       "      <td>612b7a44d1977c0c42ce753e</td>\n",
       "      <td>Hungary</td>\n",
       "      <td>+36</td>\n",
       "      <td>HU</td>\n",
       "    </tr>\n",
       "    <tr>\n",
       "      <th>96</th>\n",
       "      <td>612b7a44d1977c0c42ce753f</td>\n",
       "      <td>Iceland</td>\n",
       "      <td>+354</td>\n",
       "      <td>IS</td>\n",
       "    </tr>\n",
       "    <tr>\n",
       "      <th>97</th>\n",
       "      <td>612b7a44d1977c0c42ce7540</td>\n",
       "      <td>India</td>\n",
       "      <td>+91</td>\n",
       "      <td>IN</td>\n",
       "    </tr>\n",
       "    <tr>\n",
       "      <th>98</th>\n",
       "      <td>612b7a44d1977c0c42ce7541</td>\n",
       "      <td>Indonesia</td>\n",
       "      <td>+62</td>\n",
       "      <td>ID</td>\n",
       "    </tr>\n",
       "    <tr>\n",
       "      <th>99</th>\n",
       "      <td>612b7a44d1977c0c42ce7542</td>\n",
       "      <td>Iran, Islamic Republic of Persian Gulf</td>\n",
       "      <td>+98</td>\n",
       "      <td>IR</td>\n",
       "    </tr>\n",
       "  </tbody>\n",
       "</table>\n",
       "<p>100 rows × 4 columns</p>\n",
       "</div>"
      ],
      "text/plain": [
       "                         _id                                    name prefix  \\\n",
       "0   612b7a44d1977c0c42ce74df                             Afghanistan    +93   \n",
       "1   612b7a44d1977c0c42ce74e0                           Aland Islands   +358   \n",
       "2   612b7a44d1977c0c42ce74e1                                 Albania   +355   \n",
       "3   612b7a44d1977c0c42ce74e2                                 Algeria   +213   \n",
       "4   612b7a44d1977c0c42ce74e3                           AmericanSamoa  +1684   \n",
       "..                       ...                                     ...    ...   \n",
       "95  612b7a44d1977c0c42ce753e                                 Hungary    +36   \n",
       "96  612b7a44d1977c0c42ce753f                                 Iceland   +354   \n",
       "97  612b7a44d1977c0c42ce7540                                   India    +91   \n",
       "98  612b7a44d1977c0c42ce7541                               Indonesia    +62   \n",
       "99  612b7a44d1977c0c42ce7542  Iran, Islamic Republic of Persian Gulf    +98   \n",
       "\n",
       "   code  \n",
       "0    AF  \n",
       "1    AX  \n",
       "2    AL  \n",
       "3    DZ  \n",
       "4    AS  \n",
       "..  ...  \n",
       "95   HU  \n",
       "96   IS  \n",
       "97   IN  \n",
       "98   ID  \n",
       "99   IR  \n",
       "\n",
       "[100 rows x 4 columns]"
      ]
     },
     "execution_count": 7,
     "metadata": {},
     "output_type": "execute_result"
    }
   ],
   "source": [
    "csvData = pd.read_csv(filename);\n",
    "csvData"
   ]
  },
  {
   "cell_type": "markdown",
   "id": "09fe9dfa",
   "metadata": {},
   "source": [
    "## Assignment 1 - Task 6: Now create another extra column apart from existing data\n",
    "via python code only, In that column generate 100 random data\n",
    "via python code"
   ]
  },
  {
   "cell_type": "code",
   "execution_count": 8,
   "id": "5e56098c",
   "metadata": {},
   "outputs": [
    {
     "data": {
      "text/html": [
       "<div>\n",
       "<style scoped>\n",
       "    .dataframe tbody tr th:only-of-type {\n",
       "        vertical-align: middle;\n",
       "    }\n",
       "\n",
       "    .dataframe tbody tr th {\n",
       "        vertical-align: top;\n",
       "    }\n",
       "\n",
       "    .dataframe thead th {\n",
       "        text-align: right;\n",
       "    }\n",
       "</style>\n",
       "<table border=\"1\" class=\"dataframe\">\n",
       "  <thead>\n",
       "    <tr style=\"text-align: right;\">\n",
       "      <th></th>\n",
       "      <th>_id</th>\n",
       "      <th>name</th>\n",
       "      <th>prefix</th>\n",
       "      <th>code</th>\n",
       "      <th>random</th>\n",
       "    </tr>\n",
       "  </thead>\n",
       "  <tbody>\n",
       "    <tr>\n",
       "      <th>0</th>\n",
       "      <td>612b7a44d1977c0c42ce74df</td>\n",
       "      <td>Afghanistan</td>\n",
       "      <td>+93</td>\n",
       "      <td>AF</td>\n",
       "      <td>216</td>\n",
       "    </tr>\n",
       "    <tr>\n",
       "      <th>1</th>\n",
       "      <td>612b7a44d1977c0c42ce74e0</td>\n",
       "      <td>Aland Islands</td>\n",
       "      <td>+358</td>\n",
       "      <td>AX</td>\n",
       "      <td>229</td>\n",
       "    </tr>\n",
       "    <tr>\n",
       "      <th>2</th>\n",
       "      <td>612b7a44d1977c0c42ce74e1</td>\n",
       "      <td>Albania</td>\n",
       "      <td>+355</td>\n",
       "      <td>AL</td>\n",
       "      <td>164</td>\n",
       "    </tr>\n",
       "    <tr>\n",
       "      <th>3</th>\n",
       "      <td>612b7a44d1977c0c42ce74e2</td>\n",
       "      <td>Algeria</td>\n",
       "      <td>+213</td>\n",
       "      <td>DZ</td>\n",
       "      <td>244</td>\n",
       "    </tr>\n",
       "    <tr>\n",
       "      <th>4</th>\n",
       "      <td>612b7a44d1977c0c42ce74e3</td>\n",
       "      <td>AmericanSamoa</td>\n",
       "      <td>+1684</td>\n",
       "      <td>AS</td>\n",
       "      <td>257</td>\n",
       "    </tr>\n",
       "    <tr>\n",
       "      <th>...</th>\n",
       "      <td>...</td>\n",
       "      <td>...</td>\n",
       "      <td>...</td>\n",
       "      <td>...</td>\n",
       "      <td>...</td>\n",
       "    </tr>\n",
       "    <tr>\n",
       "      <th>95</th>\n",
       "      <td>612b7a44d1977c0c42ce753e</td>\n",
       "      <td>Hungary</td>\n",
       "      <td>+36</td>\n",
       "      <td>HU</td>\n",
       "      <td>109</td>\n",
       "    </tr>\n",
       "    <tr>\n",
       "      <th>96</th>\n",
       "      <td>612b7a44d1977c0c42ce753f</td>\n",
       "      <td>Iceland</td>\n",
       "      <td>+354</td>\n",
       "      <td>IS</td>\n",
       "      <td>279</td>\n",
       "    </tr>\n",
       "    <tr>\n",
       "      <th>97</th>\n",
       "      <td>612b7a44d1977c0c42ce7540</td>\n",
       "      <td>India</td>\n",
       "      <td>+91</td>\n",
       "      <td>IN</td>\n",
       "      <td>232</td>\n",
       "    </tr>\n",
       "    <tr>\n",
       "      <th>98</th>\n",
       "      <td>612b7a44d1977c0c42ce7541</td>\n",
       "      <td>Indonesia</td>\n",
       "      <td>+62</td>\n",
       "      <td>ID</td>\n",
       "      <td>393</td>\n",
       "    </tr>\n",
       "    <tr>\n",
       "      <th>99</th>\n",
       "      <td>612b7a44d1977c0c42ce7542</td>\n",
       "      <td>Iran, Islamic Republic of Persian Gulf</td>\n",
       "      <td>+98</td>\n",
       "      <td>IR</td>\n",
       "      <td>346</td>\n",
       "    </tr>\n",
       "  </tbody>\n",
       "</table>\n",
       "<p>100 rows × 5 columns</p>\n",
       "</div>"
      ],
      "text/plain": [
       "                         _id                                    name prefix  \\\n",
       "0   612b7a44d1977c0c42ce74df                             Afghanistan    +93   \n",
       "1   612b7a44d1977c0c42ce74e0                           Aland Islands   +358   \n",
       "2   612b7a44d1977c0c42ce74e1                                 Albania   +355   \n",
       "3   612b7a44d1977c0c42ce74e2                                 Algeria   +213   \n",
       "4   612b7a44d1977c0c42ce74e3                           AmericanSamoa  +1684   \n",
       "..                       ...                                     ...    ...   \n",
       "95  612b7a44d1977c0c42ce753e                                 Hungary    +36   \n",
       "96  612b7a44d1977c0c42ce753f                                 Iceland   +354   \n",
       "97  612b7a44d1977c0c42ce7540                                   India    +91   \n",
       "98  612b7a44d1977c0c42ce7541                               Indonesia    +62   \n",
       "99  612b7a44d1977c0c42ce7542  Iran, Islamic Republic of Persian Gulf    +98   \n",
       "\n",
       "   code  random  \n",
       "0    AF     216  \n",
       "1    AX     229  \n",
       "2    AL     164  \n",
       "3    DZ     244  \n",
       "4    AS     257  \n",
       "..  ...     ...  \n",
       "95   HU     109  \n",
       "96   IS     279  \n",
       "97   IN     232  \n",
       "98   ID     393  \n",
       "99   IR     346  \n",
       "\n",
       "[100 rows x 5 columns]"
      ]
     },
     "execution_count": 8,
     "metadata": {},
     "output_type": "execute_result"
    }
   ],
   "source": [
    "csvData['random'] = np.random.randint(100, 500, size=len(csvData))\n",
    "csvData"
   ]
  },
  {
   "cell_type": "markdown",
   "id": "305c29b4",
   "metadata": {},
   "source": [
    "## Assignment 1 - Task 7: Now print top 5 rows"
   ]
  },
  {
   "cell_type": "code",
   "execution_count": 9,
   "id": "e69e0563",
   "metadata": {},
   "outputs": [
    {
     "data": {
      "text/html": [
       "<div>\n",
       "<style scoped>\n",
       "    .dataframe tbody tr th:only-of-type {\n",
       "        vertical-align: middle;\n",
       "    }\n",
       "\n",
       "    .dataframe tbody tr th {\n",
       "        vertical-align: top;\n",
       "    }\n",
       "\n",
       "    .dataframe thead th {\n",
       "        text-align: right;\n",
       "    }\n",
       "</style>\n",
       "<table border=\"1\" class=\"dataframe\">\n",
       "  <thead>\n",
       "    <tr style=\"text-align: right;\">\n",
       "      <th></th>\n",
       "      <th>_id</th>\n",
       "      <th>name</th>\n",
       "      <th>prefix</th>\n",
       "      <th>code</th>\n",
       "      <th>random</th>\n",
       "    </tr>\n",
       "  </thead>\n",
       "  <tbody>\n",
       "    <tr>\n",
       "      <th>0</th>\n",
       "      <td>612b7a44d1977c0c42ce74df</td>\n",
       "      <td>Afghanistan</td>\n",
       "      <td>+93</td>\n",
       "      <td>AF</td>\n",
       "      <td>216</td>\n",
       "    </tr>\n",
       "    <tr>\n",
       "      <th>1</th>\n",
       "      <td>612b7a44d1977c0c42ce74e0</td>\n",
       "      <td>Aland Islands</td>\n",
       "      <td>+358</td>\n",
       "      <td>AX</td>\n",
       "      <td>229</td>\n",
       "    </tr>\n",
       "    <tr>\n",
       "      <th>2</th>\n",
       "      <td>612b7a44d1977c0c42ce74e1</td>\n",
       "      <td>Albania</td>\n",
       "      <td>+355</td>\n",
       "      <td>AL</td>\n",
       "      <td>164</td>\n",
       "    </tr>\n",
       "    <tr>\n",
       "      <th>3</th>\n",
       "      <td>612b7a44d1977c0c42ce74e2</td>\n",
       "      <td>Algeria</td>\n",
       "      <td>+213</td>\n",
       "      <td>DZ</td>\n",
       "      <td>244</td>\n",
       "    </tr>\n",
       "    <tr>\n",
       "      <th>4</th>\n",
       "      <td>612b7a44d1977c0c42ce74e3</td>\n",
       "      <td>AmericanSamoa</td>\n",
       "      <td>+1684</td>\n",
       "      <td>AS</td>\n",
       "      <td>257</td>\n",
       "    </tr>\n",
       "  </tbody>\n",
       "</table>\n",
       "</div>"
      ],
      "text/plain": [
       "                        _id           name prefix code  random\n",
       "0  612b7a44d1977c0c42ce74df    Afghanistan    +93   AF     216\n",
       "1  612b7a44d1977c0c42ce74e0  Aland Islands   +358   AX     229\n",
       "2  612b7a44d1977c0c42ce74e1        Albania   +355   AL     164\n",
       "3  612b7a44d1977c0c42ce74e2        Algeria   +213   DZ     244\n",
       "4  612b7a44d1977c0c42ce74e3  AmericanSamoa  +1684   AS     257"
      ]
     },
     "execution_count": 9,
     "metadata": {},
     "output_type": "execute_result"
    }
   ],
   "source": [
    "csvData.head(5)"
   ]
  },
  {
   "cell_type": "markdown",
   "id": "9e238245",
   "metadata": {},
   "source": [
    "## Assignment 1 - Task 8:  Now print what dimensional matrix this dataframe"
   ]
  },
  {
   "cell_type": "raw",
   "id": "298315b2",
   "metadata": {},
   "source": [
    "Get the shape"
   ]
  },
  {
   "cell_type": "code",
   "execution_count": 10,
   "id": "9b9bb985",
   "metadata": {},
   "outputs": [
    {
     "data": {
      "text/plain": [
       "(100, 5)"
      ]
     },
     "execution_count": 10,
     "metadata": {},
     "output_type": "execute_result"
    }
   ],
   "source": [
    "shape = csvData.shape\n",
    "shape\n"
   ]
  },
  {
   "cell_type": "markdown",
   "id": "3988f131",
   "metadata": {},
   "source": [
    "Get the dimnation from shape"
   ]
  },
  {
   "cell_type": "code",
   "execution_count": 11,
   "id": "f7bbc6a9",
   "metadata": {},
   "outputs": [
    {
     "data": {
      "text/plain": [
       "2"
      ]
     },
     "execution_count": 11,
     "metadata": {},
     "output_type": "execute_result"
    }
   ],
   "source": [
    "dimentions = len(shape)\n",
    "dimentions"
   ]
  },
  {
   "cell_type": "markdown",
   "id": "41438cd8",
   "metadata": {},
   "source": [
    "## Assignment 1 - Task 9: Transpose this dataframe"
   ]
  },
  {
   "cell_type": "code",
   "execution_count": 12,
   "id": "8480c10f",
   "metadata": {},
   "outputs": [
    {
     "data": {
      "text/html": [
       "<div>\n",
       "<style scoped>\n",
       "    .dataframe tbody tr th:only-of-type {\n",
       "        vertical-align: middle;\n",
       "    }\n",
       "\n",
       "    .dataframe tbody tr th {\n",
       "        vertical-align: top;\n",
       "    }\n",
       "\n",
       "    .dataframe thead th {\n",
       "        text-align: right;\n",
       "    }\n",
       "</style>\n",
       "<table border=\"1\" class=\"dataframe\">\n",
       "  <thead>\n",
       "    <tr style=\"text-align: right;\">\n",
       "      <th></th>\n",
       "      <th>0</th>\n",
       "      <th>1</th>\n",
       "      <th>2</th>\n",
       "      <th>3</th>\n",
       "      <th>4</th>\n",
       "      <th>5</th>\n",
       "      <th>6</th>\n",
       "      <th>7</th>\n",
       "      <th>8</th>\n",
       "      <th>9</th>\n",
       "      <th>...</th>\n",
       "      <th>90</th>\n",
       "      <th>91</th>\n",
       "      <th>92</th>\n",
       "      <th>93</th>\n",
       "      <th>94</th>\n",
       "      <th>95</th>\n",
       "      <th>96</th>\n",
       "      <th>97</th>\n",
       "      <th>98</th>\n",
       "      <th>99</th>\n",
       "    </tr>\n",
       "  </thead>\n",
       "  <tbody>\n",
       "    <tr>\n",
       "      <th>_id</th>\n",
       "      <td>612b7a44d1977c0c42ce74df</td>\n",
       "      <td>612b7a44d1977c0c42ce74e0</td>\n",
       "      <td>612b7a44d1977c0c42ce74e1</td>\n",
       "      <td>612b7a44d1977c0c42ce74e2</td>\n",
       "      <td>612b7a44d1977c0c42ce74e3</td>\n",
       "      <td>612b7a44d1977c0c42ce74e4</td>\n",
       "      <td>612b7a44d1977c0c42ce74e5</td>\n",
       "      <td>612b7a44d1977c0c42ce74e6</td>\n",
       "      <td>612b7a44d1977c0c42ce74e7</td>\n",
       "      <td>612b7a44d1977c0c42ce74e8</td>\n",
       "      <td>...</td>\n",
       "      <td>612b7a44d1977c0c42ce7539</td>\n",
       "      <td>612b7a44d1977c0c42ce753a</td>\n",
       "      <td>612b7a44d1977c0c42ce753b</td>\n",
       "      <td>612b7a44d1977c0c42ce753c</td>\n",
       "      <td>612b7a44d1977c0c42ce753d</td>\n",
       "      <td>612b7a44d1977c0c42ce753e</td>\n",
       "      <td>612b7a44d1977c0c42ce753f</td>\n",
       "      <td>612b7a44d1977c0c42ce7540</td>\n",
       "      <td>612b7a44d1977c0c42ce7541</td>\n",
       "      <td>612b7a44d1977c0c42ce7542</td>\n",
       "    </tr>\n",
       "    <tr>\n",
       "      <th>name</th>\n",
       "      <td>Afghanistan</td>\n",
       "      <td>Aland Islands</td>\n",
       "      <td>Albania</td>\n",
       "      <td>Algeria</td>\n",
       "      <td>AmericanSamoa</td>\n",
       "      <td>Andorra</td>\n",
       "      <td>Angola</td>\n",
       "      <td>Anguilla</td>\n",
       "      <td>Antarctica</td>\n",
       "      <td>Antigua and Barbuda</td>\n",
       "      <td>...</td>\n",
       "      <td>Guyana</td>\n",
       "      <td>Haiti</td>\n",
       "      <td>Holy See (Vatican City State)</td>\n",
       "      <td>Honduras</td>\n",
       "      <td>Hong Kong</td>\n",
       "      <td>Hungary</td>\n",
       "      <td>Iceland</td>\n",
       "      <td>India</td>\n",
       "      <td>Indonesia</td>\n",
       "      <td>Iran, Islamic Republic of Persian Gulf</td>\n",
       "    </tr>\n",
       "    <tr>\n",
       "      <th>prefix</th>\n",
       "      <td>+93</td>\n",
       "      <td>+358</td>\n",
       "      <td>+355</td>\n",
       "      <td>+213</td>\n",
       "      <td>+1684</td>\n",
       "      <td>+376</td>\n",
       "      <td>+244</td>\n",
       "      <td>+1264</td>\n",
       "      <td>+672</td>\n",
       "      <td>+1268</td>\n",
       "      <td>...</td>\n",
       "      <td>+595</td>\n",
       "      <td>+509</td>\n",
       "      <td>+379</td>\n",
       "      <td>+504</td>\n",
       "      <td>+852</td>\n",
       "      <td>+36</td>\n",
       "      <td>+354</td>\n",
       "      <td>+91</td>\n",
       "      <td>+62</td>\n",
       "      <td>+98</td>\n",
       "    </tr>\n",
       "    <tr>\n",
       "      <th>code</th>\n",
       "      <td>AF</td>\n",
       "      <td>AX</td>\n",
       "      <td>AL</td>\n",
       "      <td>DZ</td>\n",
       "      <td>AS</td>\n",
       "      <td>AD</td>\n",
       "      <td>AO</td>\n",
       "      <td>AI</td>\n",
       "      <td>AQ</td>\n",
       "      <td>AG</td>\n",
       "      <td>...</td>\n",
       "      <td>GY</td>\n",
       "      <td>HT</td>\n",
       "      <td>VA</td>\n",
       "      <td>HN</td>\n",
       "      <td>HK</td>\n",
       "      <td>HU</td>\n",
       "      <td>IS</td>\n",
       "      <td>IN</td>\n",
       "      <td>ID</td>\n",
       "      <td>IR</td>\n",
       "    </tr>\n",
       "    <tr>\n",
       "      <th>random</th>\n",
       "      <td>216</td>\n",
       "      <td>229</td>\n",
       "      <td>164</td>\n",
       "      <td>244</td>\n",
       "      <td>257</td>\n",
       "      <td>134</td>\n",
       "      <td>199</td>\n",
       "      <td>398</td>\n",
       "      <td>478</td>\n",
       "      <td>259</td>\n",
       "      <td>...</td>\n",
       "      <td>220</td>\n",
       "      <td>435</td>\n",
       "      <td>355</td>\n",
       "      <td>202</td>\n",
       "      <td>260</td>\n",
       "      <td>109</td>\n",
       "      <td>279</td>\n",
       "      <td>232</td>\n",
       "      <td>393</td>\n",
       "      <td>346</td>\n",
       "    </tr>\n",
       "  </tbody>\n",
       "</table>\n",
       "<p>5 rows × 100 columns</p>\n",
       "</div>"
      ],
      "text/plain": [
       "                              0                         1   \\\n",
       "_id     612b7a44d1977c0c42ce74df  612b7a44d1977c0c42ce74e0   \n",
       "name                 Afghanistan             Aland Islands   \n",
       "prefix                       +93                      +358   \n",
       "code                          AF                        AX   \n",
       "random                       216                       229   \n",
       "\n",
       "                              2                         3   \\\n",
       "_id     612b7a44d1977c0c42ce74e1  612b7a44d1977c0c42ce74e2   \n",
       "name                     Albania                   Algeria   \n",
       "prefix                      +355                      +213   \n",
       "code                          AL                        DZ   \n",
       "random                       164                       244   \n",
       "\n",
       "                              4                         5   \\\n",
       "_id     612b7a44d1977c0c42ce74e3  612b7a44d1977c0c42ce74e4   \n",
       "name               AmericanSamoa                   Andorra   \n",
       "prefix                     +1684                      +376   \n",
       "code                          AS                        AD   \n",
       "random                       257                       134   \n",
       "\n",
       "                              6                         7   \\\n",
       "_id     612b7a44d1977c0c42ce74e5  612b7a44d1977c0c42ce74e6   \n",
       "name                      Angola                  Anguilla   \n",
       "prefix                      +244                     +1264   \n",
       "code                          AO                        AI   \n",
       "random                       199                       398   \n",
       "\n",
       "                              8                         9   ...  \\\n",
       "_id     612b7a44d1977c0c42ce74e7  612b7a44d1977c0c42ce74e8  ...   \n",
       "name                  Antarctica       Antigua and Barbuda  ...   \n",
       "prefix                      +672                     +1268  ...   \n",
       "code                          AQ                        AG  ...   \n",
       "random                       478                       259  ...   \n",
       "\n",
       "                              90                        91  \\\n",
       "_id     612b7a44d1977c0c42ce7539  612b7a44d1977c0c42ce753a   \n",
       "name                      Guyana                     Haiti   \n",
       "prefix                      +595                      +509   \n",
       "code                          GY                        HT   \n",
       "random                       220                       435   \n",
       "\n",
       "                                   92                        93  \\\n",
       "_id          612b7a44d1977c0c42ce753b  612b7a44d1977c0c42ce753c   \n",
       "name    Holy See (Vatican City State)                  Honduras   \n",
       "prefix                           +379                      +504   \n",
       "code                               VA                        HN   \n",
       "random                            355                       202   \n",
       "\n",
       "                              94                        95  \\\n",
       "_id     612b7a44d1977c0c42ce753d  612b7a44d1977c0c42ce753e   \n",
       "name                   Hong Kong                   Hungary   \n",
       "prefix                      +852                       +36   \n",
       "code                          HK                        HU   \n",
       "random                       260                       109   \n",
       "\n",
       "                              96                        97  \\\n",
       "_id     612b7a44d1977c0c42ce753f  612b7a44d1977c0c42ce7540   \n",
       "name                     Iceland                     India   \n",
       "prefix                      +354                       +91   \n",
       "code                          IS                        IN   \n",
       "random                       279                       232   \n",
       "\n",
       "                              98                                      99  \n",
       "_id     612b7a44d1977c0c42ce7541                612b7a44d1977c0c42ce7542  \n",
       "name                   Indonesia  Iran, Islamic Republic of Persian Gulf  \n",
       "prefix                       +62                                     +98  \n",
       "code                          ID                                      IR  \n",
       "random                       393                                     346  \n",
       "\n",
       "[5 rows x 100 columns]"
      ]
     },
     "execution_count": 12,
     "metadata": {},
     "output_type": "execute_result"
    }
   ],
   "source": [
    "transposeCsvData = csvData.T\n",
    "transposeCsvData"
   ]
  },
  {
   "cell_type": "markdown",
   "id": "57a04c82",
   "metadata": {},
   "source": [
    "## Assignment 1 - Task 10: Now print what dimension matrix this dataframe"
   ]
  },
  {
   "cell_type": "code",
   "execution_count": 13,
   "id": "3c3c9185",
   "metadata": {},
   "outputs": [
    {
     "data": {
      "text/plain": [
       "(5, 100)"
      ]
     },
     "execution_count": 13,
     "metadata": {},
     "output_type": "execute_result"
    }
   ],
   "source": [
    "newShape = transposeCsvData.shape\n",
    "newShape\n"
   ]
  },
  {
   "cell_type": "code",
   "execution_count": 14,
   "id": "824ff315",
   "metadata": {},
   "outputs": [
    {
     "data": {
      "text/plain": [
       "2"
      ]
     },
     "execution_count": 14,
     "metadata": {},
     "output_type": "execute_result"
    }
   ],
   "source": [
    "newDimentions = len(newShape)\n",
    "newDimentions"
   ]
  },
  {
   "cell_type": "markdown",
   "id": "2c92bda6",
   "metadata": {},
   "source": [
    "## Assignment 1 - Task 11: Write properly pointwise in that jupyter notebook only, what’re those things you learned from this assignments"
   ]
  },
  {
   "cell_type": "markdown",
   "id": "c98c2468",
   "metadata": {},
   "source": [
    "1. Basic of jupiter notebook\n",
    "2. Python package installation \n",
    "3. Python basic\n",
    "4. MongoDb use in python\n",
    "5. Panda dataframe\n",
    "6. Panda csv read and write\n",
    "7. Random number generate by numpy\n",
    "8. Partial reading of a csv file\n",
    "9. Transposing a data set or frame"
   ]
  },
  {
   "cell_type": "code",
   "execution_count": null,
   "id": "6e16a823",
   "metadata": {},
   "outputs": [],
   "source": []
  }
 ],
 "metadata": {
  "kernelspec": {
   "display_name": "Python 3",
   "language": "python",
   "name": "python3"
  },
  "language_info": {
   "codemirror_mode": {
    "name": "ipython",
    "version": 3
   },
   "file_extension": ".py",
   "mimetype": "text/x-python",
   "name": "python",
   "nbconvert_exporter": "python",
   "pygments_lexer": "ipython3",
   "version": "3.8.8"
  }
 },
 "nbformat": 4,
 "nbformat_minor": 5
}
